{
  "cells": [
    {
      "cell_type": "markdown",
      "id": "073ecb92",
      "metadata": {
        "id": "073ecb92"
      },
      "source": [
        "# ArXiv Abstract Classification"
      ]
    },
    {
      "cell_type": "markdown",
      "id": "1f87b1e5",
      "metadata": {
        "id": "1f87b1e5"
      },
      "source": [
        "## 1. Data Collection"
      ]
    },
    {
      "cell_type": "code",
      "execution_count": 2,
      "id": "2bee7d7a",
      "metadata": {
        "colab": {
          "base_uri": "https://localhost:8080/",
          "height": 139
        },
        "id": "2bee7d7a",
        "outputId": "3c50efdd-0376-43aa-ac89-3ae353efc1a3"
      },
      "outputs": [
        {
          "output_type": "stream",
          "name": "stdout",
          "text": [
            "Fetching data for category: cs.AI\n",
            "Fetched 100 abstracts for cs.AI\n",
            "Fetching data for category: cs.LG\n",
            "Fetched 100 abstracts for cs.LG\n",
            "Fetching data for category: q-bio.NC\n",
            "Fetched 100 abstracts for q-bio.NC\n",
            "Total abstracts collected: 300\n"
          ]
        },
        {
          "output_type": "display_data",
          "data": {
            "text/plain": [
              "<IPython.core.display.Javascript object>"
            ],
            "application/javascript": [
              "\n",
              "    async function download(id, filename, size) {\n",
              "      if (!google.colab.kernel.accessAllowed) {\n",
              "        return;\n",
              "      }\n",
              "      const div = document.createElement('div');\n",
              "      const label = document.createElement('label');\n",
              "      label.textContent = `Downloading \"${filename}\": `;\n",
              "      div.appendChild(label);\n",
              "      const progress = document.createElement('progress');\n",
              "      progress.max = size;\n",
              "      div.appendChild(progress);\n",
              "      document.body.appendChild(div);\n",
              "\n",
              "      const buffers = [];\n",
              "      let downloaded = 0;\n",
              "\n",
              "      const channel = await google.colab.kernel.comms.open(id);\n",
              "      // Send a message to notify the kernel that we're ready.\n",
              "      channel.send({})\n",
              "\n",
              "      for await (const message of channel.messages) {\n",
              "        // Send a message to notify the kernel that we're ready.\n",
              "        channel.send({})\n",
              "        if (message.buffers) {\n",
              "          for (const buffer of message.buffers) {\n",
              "            buffers.push(buffer);\n",
              "            downloaded += buffer.byteLength;\n",
              "            progress.value = downloaded;\n",
              "          }\n",
              "        }\n",
              "      }\n",
              "      const blob = new Blob(buffers, {type: 'application/binary'});\n",
              "      const a = document.createElement('a');\n",
              "      a.href = window.URL.createObjectURL(blob);\n",
              "      a.download = filename;\n",
              "      div.appendChild(a);\n",
              "      a.click();\n",
              "      div.remove();\n",
              "    }\n",
              "  "
            ]
          },
          "metadata": {}
        },
        {
          "output_type": "display_data",
          "data": {
            "text/plain": [
              "<IPython.core.display.Javascript object>"
            ],
            "application/javascript": [
              "download(\"download_2c4cdc05-f9ca-4711-8ec6-00cbdaaf16a2\", \"arxiv_abstracts.csv\", 314242)"
            ]
          },
          "metadata": {}
        }
      ],
      "source": [
        "import requests\n",
        "import xml.etree.ElementTree as ET\n",
        "import pandas as pd\n",
        "from google.colab import files\n",
        "\n",
        "def fetch_abstracts(category, max_results=100):\n",
        "    base_url = 'http://export.arxiv.org/api/query?'\n",
        "    search_query = f'cat:{category}'\n",
        "    query = f'{base_url}search_query={search_query}&max_results={max_results}'\n",
        "\n",
        "    response = requests.get(query)\n",
        "\n",
        "    if response.status_code == 200:\n",
        "        root = ET.fromstring(response.content)\n",
        "        entries = root.findall('{http://www.w3.org/2005/Atom}entry')\n",
        "\n",
        "        results = []\n",
        "        for entry in entries:\n",
        "            title = entry.find('{http://www.w3.org/2005/Atom}title').text\n",
        "            abstract = entry.find('{http://www.w3.org/2005/Atom}summary').text\n",
        "            results.append({'category': category, 'title': title, 'abstract': abstract})\n",
        "\n",
        "        return results\n",
        "    else:\n",
        "        print(f\"Error fetching data: {response.status_code}\")\n",
        "        return []\n",
        "\n",
        "# Collect data\n",
        "categories = ['cs.AI', 'cs.LG', 'q-bio.NC']\n",
        "all_data = []\n",
        "\n",
        "for category in categories:\n",
        "    print(f\"Fetching data for category: {category}\")\n",
        "    category_data = fetch_abstracts(category)\n",
        "    all_data.extend(category_data)\n",
        "    print(f\"Fetched {len(category_data)} abstracts for {category}\")\n",
        "\n",
        "df = pd.DataFrame(all_data)\n",
        "\n",
        "# Display the first few rows of the dataframe\n",
        "print(f\"Total abstracts collected: {len(df)}\")\n",
        "df.head()\n",
        "\n",
        "# Save the data to a CSV file and download\n",
        "df.to_csv('arxiv_abstracts.csv', index=False)\n",
        "files.download('arxiv_abstracts.csv')"
      ]
    },
    {
      "cell_type": "markdown",
      "id": "61d9f86d",
      "metadata": {
        "id": "61d9f86d"
      },
      "source": [
        "## 2. Data Preprocessing"
      ]
    },
    {
      "cell_type": "code",
      "execution_count": 3,
      "id": "a2c737c4",
      "metadata": {
        "colab": {
          "base_uri": "https://localhost:8080/"
        },
        "id": "a2c737c4",
        "outputId": "f6a55e33-d326-4c07-c506-5e7dcdf69767"
      },
      "outputs": [
        {
          "output_type": "stream",
          "name": "stderr",
          "text": [
            "[nltk_data] Downloading package punkt to /root/nltk_data...\n",
            "[nltk_data]   Unzipping tokenizers/punkt.zip.\n",
            "[nltk_data] Downloading package stopwords to /root/nltk_data...\n",
            "[nltk_data]   Unzipping corpora/stopwords.zip.\n",
            "[nltk_data] Downloading package wordnet to /root/nltk_data...\n"
          ]
        },
        {
          "output_type": "stream",
          "name": "stdout",
          "text": [
            "Total abstracts: 300\n",
            "  category                                              title  \\\n",
            "0    cs.AI                               Dynamic Backtracking   \n",
            "1    cs.AI  A Market-Oriented Programming Environment and ...   \n",
            "2    cs.AI            An Empirical Analysis of Search in GSAT   \n",
            "3    cs.AI  The Difficulties of Learning Logic Programs wi...   \n",
            "4    cs.AI  Software Agents: Completing Patterns and Const...   \n",
            "\n",
            "                                            abstract  \n",
            "0    Because of their occasional need to return t...  \n",
            "1    Market price systems constitute a well-under...  \n",
            "2    We describe an extensive study of search in ...  \n",
            "3    As real logic programmers normally use cut (...  \n",
            "4    To support the goal of allowing users to rec...  \n",
            "Original Abstract:\n",
            "  Because of their occasional need to return to shallow points in a search\n",
            "tree, existing backtracking methods can sometimes erase meaningful progress\n",
            "toward solving a search problem. In this paper, we present a method by which\n",
            "backtrack points can be moved deeper in the search space, thereby avoiding this\n",
            "difficulty. The technique developed is a variant of dependency-directed\n",
            "backtracking that uses only polynomial space while still providing useful\n",
            "control information and retaining the completeness guarantees provided by\n",
            "earlier approaches.\n",
            "\n",
            "\n",
            "Cleaned Abstract:\n",
            "  because of their occasional need to return to shallow points in a search\n",
            "tree existing backtracking methods can sometimes erase meaningful progress\n",
            "toward solving a search problem in this paper we present a method by which\n",
            "backtrack points can be moved deeper in the search space thereby avoiding this\n",
            "difficulty the technique developed is a variant of dependencydirected\n",
            "backtracking that uses only polynomial space while still providing useful\n",
            "control information and retaining the completeness guarantees provided by\n",
            "earlier approaches\n",
            "\n",
            "\n",
            "Tokens:\n",
            "['because', 'of', 'their', 'occasional', 'need', 'to', 'return', 'to', 'shallow', 'points', 'in', 'a', 'search', 'tree', 'existing', 'backtracking', 'methods', 'can', 'sometimes', 'erase']\n",
            "\n",
            "Tokens without stop words:\n",
            "['occasional', 'need', 'return', 'shallow', 'points', 'search', 'tree', 'existing', 'backtracking', 'methods', 'sometimes', 'erase', 'meaningful', 'progress', 'toward', 'solving', 'search', 'problem', 'paper', 'present']\n",
            "\n",
            "Final preprocessed text:\n",
            "occasional need return shallow point search tree existing backtracking method sometimes erase meaningful progress toward solving search problem paper present method backtrack point moved deeper search space thereby avoiding difficulty technique developed variant dependencydirected backtracking us polynomial space still providing useful control information retaining completeness guarantee provided earlier approach\n",
            "\n",
            "Preprocessed data saved to 'preprocessed_abstracts.csv'\n"
          ]
        }
      ],
      "source": [
        "import pandas as pd\n",
        "import re\n",
        "import nltk\n",
        "from nltk.corpus import stopwords\n",
        "from nltk.tokenize import word_tokenize\n",
        "from nltk.stem import WordNetLemmatizer\n",
        "nltk.download('punkt')\n",
        "nltk.download('stopwords')\n",
        "nltk.download('wordnet')\n",
        "\n",
        "# Load the data\n",
        "df = pd.read_csv('arxiv_abstracts.csv')\n",
        "print(f\"Total abstracts: {len(df)}\")\n",
        "print(df.head())\n",
        "\n",
        "# Define a function to clean the text\n",
        "def clean_text(text):\n",
        "    # Convert to lowercase\n",
        "    text = text.lower()\n",
        "    # Remove special characters and digits\n",
        "    text = re.sub(r'[^a-zA-Z\\s]', '', text)\n",
        "    return text\n",
        "\n",
        "# Apply the cleaning function to the 'abstract' column\n",
        "df['cleaned_abstract'] = df['abstract'].apply(clean_text)\n",
        "\n",
        "# Display a sample of original and cleaned abstract\n",
        "print(\"Original Abstract:\")\n",
        "print(df['abstract'].iloc[0])\n",
        "print(\"\\nCleaned Abstract:\")\n",
        "print(df['cleaned_abstract'].iloc[0])\n",
        "\n",
        "# Tokenize the cleaned abstracts\n",
        "df['tokens'] = df['cleaned_abstract'].apply(word_tokenize)\n",
        "\n",
        "# Remove stop words\n",
        "stop_words = set(stopwords.words('english'))\n",
        "df['tokens_without_stopwords'] = df['tokens'].apply(lambda x: [word for word in x if word not in stop_words])\n",
        "\n",
        "# Display the results\n",
        "print(\"\\nTokens:\")\n",
        "print(df['tokens'].iloc[0][:20])  # Display first 20 tokens\n",
        "print(\"\\nTokens without stop words:\")\n",
        "print(df['tokens_without_stopwords'].iloc[0][:20])  # Display first 20 tokens\n",
        "\n",
        "# Apply lemmatization\n",
        "lemmatizer = WordNetLemmatizer()\n",
        "df['lemmatized_text'] = df['tokens_without_stopwords'].apply(lambda x: ' '.join([lemmatizer.lemmatize(word) for word in x]))\n",
        "\n",
        "# Display a sample of the final preprocessed text\n",
        "print(\"\\nFinal preprocessed text:\")\n",
        "print(df['lemmatized_text'].iloc[0])\n",
        "\n",
        "# Save the preprocessed data\n",
        "df[['category', 'lemmatized_text']].to_csv('preprocessed_abstracts.csv', index=False)\n",
        "print(\"\\nPreprocessed data saved to 'preprocessed_abstracts.csv'\")"
      ]
    },
    {
      "cell_type": "markdown",
      "id": "393d0018",
      "metadata": {
        "id": "393d0018"
      },
      "source": [
        "## 3. Feature Extraction"
      ]
    },
    {
      "cell_type": "code",
      "execution_count": 4,
      "id": "011a08ce",
      "metadata": {
        "colab": {
          "base_uri": "https://localhost:8080/"
        },
        "id": "011a08ce",
        "outputId": "c562501c-caa7-4a82-b5b6-7e3664cb517e"
      },
      "outputs": [
        {
          "output_type": "stream",
          "name": "stdout",
          "text": [
            "Total abstracts: 300\n",
            "  category                                    lemmatized_text\n",
            "0    cs.AI  occasional need return shallow point search tr...\n",
            "1    cs.AI  market price system constitute wellunderstood ...\n",
            "2    cs.AI  describe extensive study search gsat approxima...\n",
            "3    cs.AI  real logic programmer normally use cut effecti...\n",
            "4    cs.AI  support goal allowing user record retrieve inf...\n",
            "\n",
            "Shape of TF-IDF matrix: (300, 4752)\n",
            "\n",
            "Sample of TF-IDF features:\n",
            "ability        0.0\n",
            "able           0.0\n",
            "abnormality    0.0\n",
            "abo            0.0\n",
            "abrupt         0.0\n",
            "Name: 0, dtype: float64\n",
            "\n",
            "Training set shape: (240, 4752)\n",
            "Testing set shape: (60, 4752)\n",
            "\n",
            "TF-IDF feature names saved to 'tfidf_features.csv'\n"
          ]
        }
      ],
      "source": [
        "import pandas as pd\n",
        "from sklearn.feature_extraction.text import TfidfVectorizer\n",
        "from sklearn.model_selection import train_test_split\n",
        "\n",
        "# Load the preprocessed data\n",
        "df = pd.read_csv('preprocessed_abstracts.csv')\n",
        "print(f\"Total abstracts: {len(df)}\")\n",
        "print(df.head())\n",
        "\n",
        "# Initialize and fit the TF-IDF Vectorizer\n",
        "tfidf_vectorizer = TfidfVectorizer(max_features=5000)  # Limit to top 5000 features\n",
        "tfidf_matrix = tfidf_vectorizer.fit_transform(df['lemmatized_text'])\n",
        "\n",
        "# Convert the TF-IDF matrix to a DataFrame\n",
        "tfidf_df = pd.DataFrame(tfidf_matrix.toarray(), columns=tfidf_vectorizer.get_feature_names_out())\n",
        "\n",
        "# Display the shape of the TF-IDF matrix and a sample\n",
        "print(f\"\\nShape of TF-IDF matrix: {tfidf_matrix.shape}\")\n",
        "print(\"\\nSample of TF-IDF features:\")\n",
        "print(tfidf_df.iloc[0].head())\n",
        "\n",
        "# Split the data into training and testing sets\n",
        "X = tfidf_matrix\n",
        "y = df['category']\n",
        "X_train, X_test, y_train, y_test = train_test_split(X, y, test_size=0.2, random_state=42)\n",
        "\n",
        "print(f\"\\nTraining set shape: {X_train.shape}\")\n",
        "print(f\"Testing set shape: {X_test.shape}\")\n",
        "\n",
        "# Save the feature names for later use\n",
        "feature_names = tfidf_vectorizer.get_feature_names_out()\n",
        "pd.Series(feature_names).to_csv('tfidf_features.csv', index=False)\n",
        "print(\"\\nTF-IDF feature names saved to 'tfidf_features.csv'\")"
      ]
    },
    {
      "cell_type": "markdown",
      "id": "abeb0968",
      "metadata": {
        "id": "abeb0968"
      },
      "source": [
        "## 4. Model Development"
      ]
    },
    {
      "cell_type": "markdown",
      "id": "b93c0acc",
      "metadata": {
        "id": "b93c0acc"
      },
      "source": [
        "### 4.1 Random Forest Classifier"
      ]
    },
    {
      "cell_type": "code",
      "execution_count": 5,
      "id": "2510ae21",
      "metadata": {
        "colab": {
          "base_uri": "https://localhost:8080/",
          "height": 1000
        },
        "id": "2510ae21",
        "outputId": "b3a0310d-8c3a-44b4-eeb5-8d8e25a950f7"
      },
      "outputs": [
        {
          "output_type": "stream",
          "name": "stdout",
          "text": [
            "Classification Report (Random Forest):\n",
            "              precision    recall  f1-score   support\n",
            "\n",
            "       cs.AI       0.94      0.73      0.82        22\n",
            "       cs.LG       0.65      0.94      0.77        16\n",
            "    q-bio.NC       1.00      0.91      0.95        22\n",
            "\n",
            "    accuracy                           0.85        60\n",
            "   macro avg       0.86      0.86      0.85        60\n",
            "weighted avg       0.89      0.85      0.86        60\n",
            "\n"
          ]
        },
        {
          "output_type": "display_data",
          "data": {
            "text/plain": [
              "<Figure size 1000x700 with 2 Axes>"
            ],
            "image/png": "[encoded data removed]"
          },
          "metadata": {}
        },
        {
          "output_type": "display_data",
          "data": {
            "text/plain": [
              "<Figure size 1000x800 with 1 Axes>"
            ],
            "image/png": "[encoded data removed]"
          },
          "metadata": {}
        }
      ],
      "source": [
        "from sklearn.ensemble import RandomForestClassifier\n",
        "from sklearn.metrics import classification_report, confusion_matrix\n",
        "import numpy as np\n",
        "import matplotlib.pyplot as plt\n",
        "import seaborn as sns\n",
        "\n",
        "# Initialize and train the Random Forest Classifier\n",
        "rf_classifier = RandomForestClassifier(n_estimators=100, random_state=42)\n",
        "rf_classifier.fit(X_train, y_train)\n",
        "\n",
        "# Make predictions on the test set\n",
        "y_pred_rf = rf_classifier.predict(X_test)\n",
        "\n",
        "# Print the classification report\n",
        "print(\"Classification Report (Random Forest):\")\n",
        "print(classification_report(y_test, y_pred_rf))\n",
        "\n",
        "# Create and plot confusion matrix\n",
        "cm_rf = confusion_matrix(y_test, y_pred_rf)\n",
        "plt.figure(figsize=(10,7))\n",
        "sns.heatmap(cm_rf, annot=True, fmt='d', cmap='Blues')\n",
        "plt.xlabel('Predicted')\n",
        "plt.ylabel('Actual')\n",
        "plt.title('Confusion Matrix (Random Forest)')\n",
        "plt.show()\n",
        "\n",
        "# Feature importance\n",
        "feature_importance = rf_classifier.feature_importances_\n",
        "feature_names = pd.read_csv('tfidf_features.csv')['0'].tolist()\n",
        "\n",
        "# Get the top 20 most important features\n",
        "top_20_idx = np.argsort(feature_importance)[-20:]\n",
        "top_20_importance = feature_importance[top_20_idx]\n",
        "top_20_features = [feature_names[i] for i in top_20_idx]\n",
        "\n",
        "# Plot feature importance\n",
        "plt.figure(figsize=(10,8))\n",
        "plt.barh(range(20), top_20_importance, align='center')\n",
        "plt.yticks(range(20), top_20_features)\n",
        "plt.xlabel('Importance')\n",
        "plt.ylabel('Feature')\n",
        "plt.title('Top 20 Most Important Features (Random Forest)')\n",
        "plt.gca().invert_yaxis()  # Invert y-axis to show most important at the top\n",
        "plt.tight_layout()\n",
        "plt.show()"
      ]
    },
    {
      "cell_type": "markdown",
      "id": "2cf674a0",
      "metadata": {
        "id": "2cf674a0"
      },
      "source": [
        "### 4.2 Support Vector Machine (SVM) Classifier"
      ]
    },
    {
      "cell_type": "code",
      "execution_count": 6,
      "id": "f62d90d3",
      "metadata": {
        "colab": {
          "base_uri": "https://localhost:8080/",
          "height": 1000
        },
        "id": "f62d90d3",
        "outputId": "b8dd482f-0176-45b8-a607-137e6c33ebea"
      },
      "outputs": [
        {
          "output_type": "stream",
          "name": "stdout",
          "text": [
            "Classification Report (SVM):\n",
            "              precision    recall  f1-score   support\n",
            "\n",
            "       cs.AI       0.95      0.95      0.95        22\n",
            "       cs.LG       0.88      0.94      0.91        16\n",
            "    q-bio.NC       1.00      0.95      0.98        22\n",
            "\n",
            "    accuracy                           0.95        60\n",
            "   macro avg       0.95      0.95      0.95        60\n",
            "weighted avg       0.95      0.95      0.95        60\n",
            "\n"
          ]
        },
        {
          "output_type": "display_data",
          "data": {
            "text/plain": [
              "<Figure size 1000x700 with 2 Axes>"
            ],
            "image/png": "[encoded data removed]"
          },
          "metadata": {}
        },
        {
          "output_type": "stream",
          "name": "stdout",
          "text": [
            "\n",
            "Overall Accuracy (SVM): 95.00%\n",
            "\n",
            "Top 10 Most Important Features (SVM):\n",
            "search: 1.4240\n",
            "system: 1.2970\n",
            "program: 1.2579\n",
            "reasoning: 1.1419\n",
            "planning: 1.1200\n",
            "prediction: -1.0989\n",
            "classifier: -1.0735\n",
            "kernel: -1.0165\n",
            "bound: -1.0110\n",
            "clause: 0.9244\n"
          ]
        }
      ],
      "source": [
        "from sklearn.svm import SVC\n",
        "from sklearn.metrics import classification_report, confusion_matrix\n",
        "import matplotlib.pyplot as plt\n",
        "import seaborn as sns\n",
        "\n",
        "# Train SVM Classifier\n",
        "svm_classifier = SVC(kernel='linear', random_state=42)\n",
        "svm_classifier.fit(X_train, y_train)\n",
        "\n",
        "# Make predictions\n",
        "y_pred_svm = svm_classifier.predict(X_test)\n",
        "\n",
        "# Print classification report\n",
        "print(\"Classification Report (SVM):\")\n",
        "print(classification_report(y_test, y_pred_svm))\n",
        "\n",
        "# Create confusion matrix\n",
        "cm_svm = confusion_matrix(y_test, y_pred_svm)\n",
        "plt.figure(figsize=(10,7))\n",
        "sns.heatmap(cm_svm, annot=True, fmt='d', cmap='Blues',\n",
        "            xticklabels=svm_classifier.classes_,\n",
        "            yticklabels=svm_classifier.classes_)\n",
        "plt.xlabel('Predicted')\n",
        "plt.ylabel('Actual')\n",
        "plt.title('Confusion Matrix (SVM)')\n",
        "plt.show()\n",
        "\n",
        "# Print overall accuracy\n",
        "accuracy = (cm_svm.diagonal().sum() / cm_svm.sum()) * 100\n",
        "print(f\"\\nOverall Accuracy (SVM): {accuracy:.2f}%\")\n",
        "\n",
        "# Feature importance (for linear SVM)\n",
        "feature_importance = svm_classifier.coef_.toarray()[0]\n",
        "feature_names = tfidf_vectorizer.get_feature_names_out()\n",
        "top_10_idx = abs(feature_importance).argsort()[-10:][::-1]\n",
        "top_10_features = [(feature_names[i], feature_importance[i]) for i in top_10_idx]\n",
        "\n",
        "print(\"\\nTop 10 Most Important Features (SVM):\")\n",
        "for feature, importance in top_10_features:\n",
        "    print(f\"{feature}: {importance:.4f}\")"
      ]
    },
    {
      "cell_type": "markdown",
      "id": "7767bd48",
      "metadata": {
        "id": "7767bd48"
      },
      "source": [
        "## 5. Model Evaluation and Comparison"
      ]
    },
    {
      "cell_type": "code",
      "source": [
        "print(\"Model Comparison:\")\n",
        "print(\"\\nRandom Forest Performance:\")\n",
        "print(classification_report(y_test, y_pred_rf))\n",
        "print(\"\\nSVM Performance:\")\n",
        "print(classification_report(y_test, y_pred_svm))\n",
        "\n",
        "# Compare accuracies\n",
        "rf_accuracy = (cm_rf.diagonal().sum() / cm_rf.sum()) * 100\n",
        "svm_accuracy = (cm_svm.diagonal().sum() / cm_svm.sum()) * 100\n",
        "\n",
        "print(f\"\\nRandom Forest Accuracy: {rf_accuracy:.2f}%\")\n",
        "print(f\"SVM Accuracy: {svm_accuracy:.2f}%\")\n",
        "\n",
        "# Visualize accuracy comparison\n",
        "models = ['Random Forest', 'SVM']\n",
        "accuracies = [rf_accuracy, svm_accuracy]\n",
        "\n",
        "plt.figure(figsize=(10, 6))\n",
        "plt.bar(models, accuracies)\n",
        "plt.title('Model Accuracy Comparison')\n",
        "plt.xlabel('Models')\n",
        "plt.ylabel('Accuracy (%)')\n",
        "plt.ylim(0, 100)\n",
        "for i, v in enumerate(accuracies):\n",
        "    plt.text(i, v + 1, f'{v:.2f}%', ha='center')\n",
        "plt.show()"
      ],
      "metadata": {
        "colab": {
          "base_uri": "https://localhost:8080/",
          "height": 1000
        },
        "id": "jhoUnrQWIS3y",
        "outputId": "0aed52d1-955f-43b4-9128-01b038831915"
      },
      "id": "jhoUnrQWIS3y",
      "execution_count": 7,
      "outputs": [
        {
          "output_type": "stream",
          "name": "stdout",
          "text": [
            "Model Comparison:\n",
            "\n",
            "Random Forest Performance:\n",
            "              precision    recall  f1-score   support\n",
            "\n",
            "       cs.AI       0.94      0.73      0.82        22\n",
            "       cs.LG       0.65      0.94      0.77        16\n",
            "    q-bio.NC       1.00      0.91      0.95        22\n",
            "\n",
            "    accuracy                           0.85        60\n",
            "   macro avg       0.86      0.86      0.85        60\n",
            "weighted avg       0.89      0.85      0.86        60\n",
            "\n",
            "\n",
            "SVM Performance:\n",
            "              precision    recall  f1-score   support\n",
            "\n",
            "       cs.AI       0.95      0.95      0.95        22\n",
            "       cs.LG       0.88      0.94      0.91        16\n",
            "    q-bio.NC       1.00      0.95      0.98        22\n",
            "\n",
            "    accuracy                           0.95        60\n",
            "   macro avg       0.95      0.95      0.95        60\n",
            "weighted avg       0.95      0.95      0.95        60\n",
            "\n",
            "\n",
            "Random Forest Accuracy: 85.00%\n",
            "SVM Accuracy: 95.00%\n"
          ]
        },
        {
          "output_type": "display_data",
          "data": {
            "text/plain": [
              "<Figure size 1000x600 with 1 Axes>"
            ],
            "image/png": "[encoded data removed]"
          },
          "metadata": {}
        }
      ]
    },
    {
      "cell_type": "markdown",
      "id": "0add8878",
      "metadata": {
        "id": "0add8878"
      },
      "source": [
        "## 6. Save Best Model"
      ]
    },
    {
      "cell_type": "code",
      "execution_count": 8,
      "id": "39fdb631",
      "metadata": {
        "colab": {
          "base_uri": "https://localhost:8080/"
        },
        "id": "39fdb631",
        "outputId": "bd21c398-612e-4375-a3c4-c6d327524cb1"
      },
      "outputs": [
        {
          "output_type": "stream",
          "name": "stdout",
          "text": [
            "Model and vectorizer saved successfully.\n"
          ]
        }
      ],
      "source": [
        "import joblib\n",
        "\n",
        "# Save the SVM model (assuming it's the best performing model)\n",
        "joblib.dump(svm_classifier, 'svm_classifier.joblib')\n",
        "joblib.dump(tfidf_vectorizer, 'tfidf_vectorizer.joblib')\n",
        "\n",
        "print(\"Model and vectorizer saved successfully.\")"
      ]
    },
    {
      "cell_type": "markdown",
      "id": "0cb82d0f",
      "metadata": {
        "id": "0cb82d0f"
      },
      "source": [
        "## 7. Create Classification Function"
      ]
    },
    {
      "cell_type": "code",
      "execution_count": 9,
      "id": "2eaf0953",
      "metadata": {
        "colab": {
          "base_uri": "https://localhost:8080/"
        },
        "id": "2eaf0953",
        "outputId": "1a2ab03c-f139-4c23-e55c-a6a56177fd6a"
      },
      "outputs": [
        {
          "output_type": "stream",
          "name": "stdout",
          "text": [
            "Abstract 1:\n",
            "Text: This paper presents a new algorithm for reinforcement learning in continuous state and action spaces.\n",
            "Predicted category: cs.AI\n",
            "\n",
            "Abstract 2:\n",
            "Text: We propose a novel neural network architecture for image classification tasks.\n",
            "Predicted category: q-bio.NC\n",
            "\n",
            "Abstract 3:\n",
            "Text: Our study investigates the role of dopamine in reward-based learning in the prefrontal cortex.\n",
            "Predicted category: q-bio.NC\n",
            "\n"
          ]
        }
      ],
      "source": [
        "import nltk\n",
        "from nltk.corpus import stopwords\n",
        "from nltk.tokenize import word_tokenize\n",
        "from nltk.stem import WordNetLemmatizer\n",
        "import re\n",
        "\n",
        "nltk.download('punkt', quiet=True)\n",
        "nltk.download('stopwords', quiet=True)\n",
        "nltk.download('wordnet', quiet=True)\n",
        "\n",
        "def preprocess_text(text):\n",
        "    # Convert to lowercase and remove special characters\n",
        "    text = re.sub(r'[^a-zA-Z\\s]', '', text.lower())\n",
        "\n",
        "    # Tokenize\n",
        "    tokens = word_tokenize(text)\n",
        "\n",
        "    # Remove stopwords and lemmatize\n",
        "    lemmatizer = WordNetLemmatizer()\n",
        "    stop_words = set(stopwords.words('english'))\n",
        "    lemmatized_tokens = [lemmatizer.lemmatize(token) for token in tokens if token not in stop_words]\n",
        "\n",
        "    return ' '.join(lemmatized_tokens)\n",
        "\n",
        "def classify_abstract(abstract):\n",
        "    # Preprocess the abstract\n",
        "    preprocessed_abstract = preprocess_text(abstract)\n",
        "\n",
        "    # Transform the preprocessed abstract using the trained vectorizer\n",
        "    abstract_vector = tfidf_vectorizer.transform([preprocessed_abstract])\n",
        "\n",
        "    # Predict the category\n",
        "    prediction = svm_classifier.predict(abstract_vector)\n",
        "\n",
        "    return prediction[0]\n",
        "\n",
        "# Test the classifier with sample abstracts\n",
        "sample_abstracts = [\n",
        "    \"This paper presents a new algorithm for reinforcement learning in continuous state and action spaces.\",\n",
        "    \"We propose a novel neural network architecture for image classification tasks.\",\n",
        "    \"Our study investigates the role of dopamine in reward-based learning in the prefrontal cortex.\"\n",
        "]\n",
        "\n",
        "for i, abstract in enumerate(sample_abstracts, 1):\n",
        "    category = classify_abstract(abstract)\n",
        "    print(f\"Abstract {i}:\")\n",
        "    print(f\"Text: {abstract}\")\n",
        "    print(f\"Predicted category: {category}\\n\")"
      ]
    },
    {
      "cell_type": "markdown",
      "id": "35624061",
      "metadata": {
        "id": "35624061"
      },
      "source": [
        "## 8. User Interface"
      ]
    },
    {
      "cell_type": "code",
      "source": [
        "import ipywidgets as widgets\n",
        "from IPython.display import display, clear_output\n",
        "\n",
        "# Create input widget\n",
        "abstract_input = widgets.Textarea(\n",
        "    value='',\n",
        "    placeholder='Enter the abstract here...',\n",
        "    description='Abstract:',\n",
        "    disabled=False,\n",
        "    layout=widgets.Layout(width='100%', height='150px')\n",
        ")\n",
        "\n",
        "# Create output widget\n",
        "output = widgets.Output()\n",
        "\n",
        "# Create button widget\n",
        "button = widgets.Button(description=\"Classify\")\n",
        "\n",
        "# Define button click event\n",
        "def on_button_clicked(b):\n",
        "    with output:\n",
        "        clear_output()\n",
        "        abstract = abstract_input.value\n",
        "        if abstract.strip() == '':\n",
        "            print(\"Please enter an abstract.\")\n",
        "        else:\n",
        "            category = classify_abstract(abstract)\n",
        "            print(f\"Predicted category: {category}\")\n",
        "\n",
        "# Link button click to event\n",
        "button.on_click(on_button_clicked)\n",
        "\n",
        "# Display widgets\n",
        "display(abstract_input, button, output)"
      ],
      "metadata": {
        "colab": {
          "base_uri": "https://localhost:8080/",
          "height": 240,
          "referenced_widgets": [
            "32b149890d33454aa8abf988d2975370",
            "e5bb2a241a264609a3fea42e51aa1bd3",
            "645a774871894be9b3b078305e4b55f2",
            "bd869bbe09094d4e9a20c2369c9e2b0e",
            "4ca25a5d6c3f496496c026155b7f9585",
            "74cd3938e7194b36be6990e7019bc9df",
            "be13cca4fa164c6eb8f3ce6b29cac687",
            "aa34a8f8ea99403092eb469fe862b3df"
          ]
        },
        "id": "R9JLmGtoIdrn",
        "outputId": "5f8ab016-6772-450d-ec87-acd2b4aefee7"
      },
      "id": "R9JLmGtoIdrn",
      "execution_count": 10,
      "outputs": [
        {
          "output_type": "display_data",
          "data": {
            "text/plain": [
              "Textarea(value='', description='Abstract:', layout=Layout(height='150px', width='100%'), placeholder='Enter th…"
            ],
            "application/vnd.jupyter.widget-view+json": {
              "version_major": 2,
              "version_minor": 0,
              "model_id": "32b149890d33454aa8abf988d2975370"
            }
          },
          "metadata": {}
        },
        {
          "output_type": "display_data",
          "data": {
            "text/plain": [
              "Button(description='Classify', style=ButtonStyle())"
            ],
            "application/vnd.jupyter.widget-view+json": {
              "version_major": 2,
              "version_minor": 0,
              "model_id": "bd869bbe09094d4e9a20c2369c9e2b0e"
            }
          },
          "metadata": {}
        },
        {
          "output_type": "display_data",
          "data": {
            "text/plain": [
              "Output()"
            ],
            "application/vnd.jupyter.widget-view+json": {
              "version_major": 2,
              "version_minor": 0,
              "model_id": "be13cca4fa164c6eb8f3ce6b29cac687"
            }
          },
          "metadata": {}
        }
      ]
    }
  ],
  "metadata": {
    "colab": {
      "provenance": []
    },
    "language_info": {
      "name": "python"
    },
    "kernelspec": {
      "name": "python3",
      "display_name": "Python 3"
    },
    "widgets": {
      "application/vnd.jupyter.widget-state+json": {
        "32b149890d33454aa8abf988d2975370": {
          "model_module": "@jupyter-widgets/controls",
          "model_name": "TextareaModel",
          "model_module_version": "1.5.0",
          "state": {
            "_dom_classes": [],
            "_model_module": "@jupyter-widgets/controls",
            "_model_module_version": "1.5.0",
            "_model_name": "TextareaModel",
            "_view_count": null,
            "_view_module": "@jupyter-widgets/controls",
            "_view_module_version": "1.5.0",
            "_view_name": "TextareaView",
            "continuous_update": true,
            "description": "Abstract:",
            "description_tooltip": null,
            "disabled": false,
            "layout": "IPY_MODEL_e5bb2a241a264609a3fea42e51aa1bd3",
            "placeholder": "Enter the abstract here...",
            "rows": null,
            "style": "IPY_MODEL_645a774871894be9b3b078305e4b55f2",
            "value": "Studies of on-shell and off-shell Higgs boson production in the four-lepton final state\nare presented, using data from the CMS experiment at the LHC that correspond to\nan integrated luminosity of 80.2 fb−1\nat a center-of-mass energy of 13 TeV. Joint constraints are set on the Higgs boson total width and parameters that express its anomalous couplings to two electroweak vector bosons. These results are combined with\nthose obtained from the data collected at center-of-mass energies of 7 and 8 TeV, corresponding to integrated luminosities of 5.1 and 19.7 fb−1\n, respectively. Kinematic\ninformation from the decay particles and the associated jets are combined using matrix element techniques to identify the production mechanism and to increase sensitivity to the Higgs boson couplings in both production and decay. The constraints on\nanomalous HVV couplings are found to be consistent with the standard model expectation in both the on-shell and off-shell regions. Under the assumption of a coupling\nstructure similar to that in the standard model, the Higgs boson width is constrained\nto be 3.2+2.8\n−2.2 MeV while the expected constraint based on simulation is 4.1+5.0\n−4.0 MeV.\nThe constraints on the width remain similar with the inclusion of the tested anomalous HVV interactions."
          }
        },
        "e5bb2a241a264609a3fea42e51aa1bd3": {
          "model_module": "@jupyter-widgets/base",
          "model_name": "LayoutModel",
          "model_module_version": "1.2.0",
          "state": {
            "_model_module": "@jupyter-widgets/base",
            "_model_module_version": "1.2.0",
            "_model_name": "LayoutModel",
            "_view_count": null,
            "_view_module": "@jupyter-widgets/base",
            "_view_module_version": "1.2.0",
            "_view_name": "LayoutView",
            "align_content": null,
            "align_items": null,
            "align_self": null,
            "border": null,
            "bottom": null,
            "display": null,
            "flex": null,
            "flex_flow": null,
            "grid_area": null,
            "grid_auto_columns": null,
            "grid_auto_flow": null,
            "grid_auto_rows": null,
            "grid_column": null,
            "grid_gap": null,
            "grid_row": null,
            "grid_template_areas": null,
            "grid_template_columns": null,
            "grid_template_rows": null,
            "height": "150px",
            "justify_content": null,
            "justify_items": null,
            "left": null,
            "margin": null,
            "max_height": null,
            "max_width": null,
            "min_height": null,
            "min_width": null,
            "object_fit": null,
            "object_position": null,
            "order": null,
            "overflow": null,
            "overflow_x": null,
            "overflow_y": null,
            "padding": null,
            "right": null,
            "top": null,
            "visibility": null,
            "width": "100%"
          }
        },
        "645a774871894be9b3b078305e4b55f2": {
          "model_module": "@jupyter-widgets/controls",
          "model_name": "DescriptionStyleModel",
          "model_module_version": "1.5.0",
          "state": {
            "_model_module": "@jupyter-widgets/controls",
            "_model_module_version": "1.5.0",
            "_model_name": "DescriptionStyleModel",
            "_view_count": null,
            "_view_module": "@jupyter-widgets/base",
            "_view_module_version": "1.2.0",
            "_view_name": "StyleView",
            "description_width": ""
          }
        },
        "bd869bbe09094d4e9a20c2369c9e2b0e": {
          "model_module": "@jupyter-widgets/controls",
          "model_name": "ButtonModel",
          "model_module_version": "1.5.0",
          "state": {
            "_dom_classes": [],
            "_model_module": "@jupyter-widgets/controls",
            "_model_module_version": "1.5.0",
            "_model_name": "ButtonModel",
            "_view_count": null,
            "_view_module": "@jupyter-widgets/controls",
            "_view_module_version": "1.5.0",
            "_view_name": "ButtonView",
            "button_style": "",
            "description": "Classify",
            "disabled": false,
            "icon": "",
            "layout": "IPY_MODEL_4ca25a5d6c3f496496c026155b7f9585",
            "style": "IPY_MODEL_74cd3938e7194b36be6990e7019bc9df",
            "tooltip": ""
          }
        },
        "4ca25a5d6c3f496496c026155b7f9585": {
          "model_module": "@jupyter-widgets/base",
          "model_name": "LayoutModel",
          "model_module_version": "1.2.0",
          "state": {
            "_model_module": "@jupyter-widgets/base",
            "_model_module_version": "1.2.0",
            "_model_name": "LayoutModel",
            "_view_count": null,
            "_view_module": "@jupyter-widgets/base",
            "_view_module_version": "1.2.0",
            "_view_name": "LayoutView",
            "align_content": null,
            "align_items": null,
            "align_self": null,
            "border": null,
            "bottom": null,
            "display": null,
            "flex": null,
            "flex_flow": null,
            "grid_area": null,
            "grid_auto_columns": null,
            "grid_auto_flow": null,
            "grid_auto_rows": null,
            "grid_column": null,
            "grid_gap": null,
            "grid_row": null,
            "grid_template_areas": null,
            "grid_template_columns": null,
            "grid_template_rows": null,
            "height": null,
            "justify_content": null,
            "justify_items": null,
            "left": null,
            "margin": null,
            "max_height": null,
            "max_width": null,
            "min_height": null,
            "min_width": null,
            "object_fit": null,
            "object_position": null,
            "order": null,
            "overflow": null,
            "overflow_x": null,
            "overflow_y": null,
            "padding": null,
            "right": null,
            "top": null,
            "visibility": null,
            "width": null
          }
        },
        "74cd3938e7194b36be6990e7019bc9df": {
          "model_module": "@jupyter-widgets/controls",
          "model_name": "ButtonStyleModel",
          "model_module_version": "1.5.0",
          "state": {
            "_model_module": "@jupyter-widgets/controls",
            "_model_module_version": "1.5.0",
            "_model_name": "ButtonStyleModel",
            "_view_count": null,
            "_view_module": "@jupyter-widgets/base",
            "_view_module_version": "1.2.0",
            "_view_name": "StyleView",
            "button_color": null,
            "font_weight": ""
          }
        },
        "be13cca4fa164c6eb8f3ce6b29cac687": {
          "model_module": "@jupyter-widgets/output",
          "model_name": "OutputModel",
          "model_module_version": "1.0.0",
          "state": {
            "_dom_classes": [],
            "_model_module": "@jupyter-widgets/output",
            "_model_module_version": "1.0.0",
            "_model_name": "OutputModel",
            "_view_count": null,
            "_view_module": "@jupyter-widgets/output",
            "_view_module_version": "1.0.0",
            "_view_name": "OutputView",
            "layout": "IPY_MODEL_aa34a8f8ea99403092eb469fe862b3df",
            "msg_id": "",
            "outputs": [
              {
                "output_type": "stream",
                "name": "stdout",
                "text": [
                  "Predicted category: cs.AI\n"
                ]
              }
            ]
          }
        },
        "aa34a8f8ea99403092eb469fe862b3df": {
          "model_module": "@jupyter-widgets/base",
          "model_name": "LayoutModel",
          "model_module_version": "1.2.0",
          "state": {
            "_model_module": "@jupyter-widgets/base",
            "_model_module_version": "1.2.0",
            "_model_name": "LayoutModel",
            "_view_count": null,
            "_view_module": "@jupyter-widgets/base",
            "_view_module_version": "1.2.0",
            "_view_name": "LayoutView",
            "align_content": null,
            "align_items": null,
            "align_self": null,
            "border": null,
            "bottom": null,
            "display": null,
            "flex": null,
            "flex_flow": null,
            "grid_area": null,
            "grid_auto_columns": null,
            "grid_auto_flow": null,
            "grid_auto_rows": null,
            "grid_column": null,
            "grid_gap": null,
            "grid_row": null,
            "grid_template_areas": null,
            "grid_template_columns": null,
            "grid_template_rows": null,
            "height": null,
            "justify_content": null,
            "justify_items": null,
            "left": null,
            "margin": null,
            "max_height": null,
            "max_width": null,
            "min_height": null,
            "min_width": null,
            "object_fit": null,
            "object_position": null,
            "order": null,
            "overflow": null,
            "overflow_x": null,
            "overflow_y": null,
            "padding": null,
            "right": null,
            "top": null,
            "visibility": null,
            "width": null
          }
        }
      }
    }
  },
  "nbformat": 4,
  "nbformat_minor": 5
}
